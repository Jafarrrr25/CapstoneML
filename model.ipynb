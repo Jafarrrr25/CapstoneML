{
 "cells": [
  {
   "cell_type": "code",
   "execution_count": 2,
   "metadata": {},
   "outputs": [
    {
     "name": "stdout",
     "output_type": "stream",
     "text": [
      "Collecting matplotlib\n",
      "  Using cached matplotlib-3.9.0-cp39-cp39-win_amd64.whl.metadata (11 kB)\n",
      "Requirement already satisfied: contourpy>=1.0.1 in c:\\users\\fajar\\appdata\\local\\programs\\python\\python39\\lib\\site-packages (from matplotlib) (1.2.1)\n",
      "Requirement already satisfied: cycler>=0.10 in c:\\users\\fajar\\appdata\\local\\programs\\python\\python39\\lib\\site-packages (from matplotlib) (0.12.1)\n",
      "Requirement already satisfied: fonttools>=4.22.0 in c:\\users\\fajar\\appdata\\local\\programs\\python\\python39\\lib\\site-packages (from matplotlib) (4.51.0)\n",
      "Requirement already satisfied: kiwisolver>=1.3.1 in c:\\users\\fajar\\appdata\\local\\programs\\python\\python39\\lib\\site-packages (from matplotlib) (1.4.5)\n",
      "Requirement already satisfied: numpy>=1.23 in c:\\users\\fajar\\appdata\\local\\programs\\python\\python39\\lib\\site-packages (from matplotlib) (1.24.3)\n",
      "Requirement already satisfied: packaging>=20.0 in c:\\users\\fajar\\appdata\\roaming\\python\\python39\\site-packages (from matplotlib) (24.0)\n",
      "Requirement already satisfied: pillow>=8 in c:\\users\\fajar\\appdata\\local\\programs\\python\\python39\\lib\\site-packages (from matplotlib) (10.0.0)\n",
      "Requirement already satisfied: pyparsing>=2.3.1 in c:\\users\\fajar\\appdata\\local\\programs\\python\\python39\\lib\\site-packages (from matplotlib) (3.1.2)\n",
      "Requirement already satisfied: python-dateutil>=2.7 in c:\\users\\fajar\\appdata\\roaming\\python\\python39\\site-packages (from matplotlib) (2.9.0.post0)\n",
      "Requirement already satisfied: importlib-resources>=3.2.0 in c:\\users\\fajar\\appdata\\local\\programs\\python\\python39\\lib\\site-packages (from matplotlib) (6.4.0)\n",
      "Requirement already satisfied: zipp>=3.1.0 in c:\\users\\fajar\\appdata\\roaming\\python\\python39\\site-packages (from importlib-resources>=3.2.0->matplotlib) (3.18.1)\n",
      "Requirement already satisfied: six>=1.5 in c:\\users\\fajar\\appdata\\roaming\\python\\python39\\site-packages (from python-dateutil>=2.7->matplotlib) (1.16.0)\n",
      "Using cached matplotlib-3.9.0-cp39-cp39-win_amd64.whl (7.9 MB)\n",
      "Installing collected packages: matplotlib\n"
     ]
    },
    {
     "name": "stderr",
     "output_type": "stream",
     "text": [
      "WARNING: Ignoring invalid distribution -atplotlib (c:\\users\\fajar\\appdata\\local\\programs\\python\\python39\\lib\\site-packages)\n",
      "WARNING: Ignoring invalid distribution -atplotlib (c:\\users\\fajar\\appdata\\local\\programs\\python\\python39\\lib\\site-packages)\n",
      "ERROR: Could not install packages due to an OSError: [WinError 5] Access is denied: 'C:\\\\Users\\\\fajar\\\\AppData\\\\Local\\\\Programs\\\\Python\\\\Python39\\\\Lib\\\\site-packages\\\\matplotlib\\\\ft2font.cp39-win_amd64.pyd'\n",
      "Consider using the `--user` option or check the permissions.\n",
      "\n"
     ]
    }
   ],
   "source": [
    "# ! pip install --upgrade tensorflow==2.16.1\n",
    "# ! pip install --upgrade keras\n",
    "! pip install --upgrade matplotlib"
   ]
  },
  {
   "cell_type": "code",
   "execution_count": 1,
   "metadata": {},
   "outputs": [
    {
     "ename": "ImportError",
     "evalue": "DLL load failed while importing _path: The specified module could not be found.",
     "output_type": "error",
     "traceback": [
      "\u001b[1;31m---------------------------------------------------------------------------\u001b[0m",
      "\u001b[1;31mImportError\u001b[0m                               Traceback (most recent call last)",
      "Cell \u001b[1;32mIn[1], line 15\u001b[0m\n\u001b[0;32m     13\u001b[0m \u001b[38;5;28;01mfrom\u001b[39;00m \u001b[38;5;21;01msklearn\u001b[39;00m\u001b[38;5;21;01m.\u001b[39;00m\u001b[38;5;21;01mmodel_selection\u001b[39;00m \u001b[38;5;28;01mimport\u001b[39;00m StratifiedKFold\n\u001b[0;32m     14\u001b[0m \u001b[38;5;28;01mfrom\u001b[39;00m \u001b[38;5;21;01mtensorflow\u001b[39;00m\u001b[38;5;21;01m.\u001b[39;00m\u001b[38;5;21;01mkeras\u001b[39;00m\u001b[38;5;21;01m.\u001b[39;00m\u001b[38;5;21;01moptimizers\u001b[39;00m \u001b[38;5;28;01mimport\u001b[39;00m Nadam\n\u001b[1;32m---> 15\u001b[0m \u001b[38;5;28;01mimport\u001b[39;00m \u001b[38;5;21;01mmatplotlib\u001b[39;00m\u001b[38;5;21;01m.\u001b[39;00m\u001b[38;5;21;01mpyplot\u001b[39;00m \u001b[38;5;28;01mas\u001b[39;00m \u001b[38;5;21;01mplt\u001b[39;00m\n",
      "File \u001b[1;32mc:\\Users\\fajar\\AppData\\Local\\Programs\\Python\\Python39\\lib\\site-packages\\matplotlib\\__init__.py:189\u001b[0m\n\u001b[0;32m    185\u001b[0m \u001b[38;5;28;01mfrom\u001b[39;00m \u001b[38;5;21;01mpackaging\u001b[39;00m\u001b[38;5;21;01m.\u001b[39;00m\u001b[38;5;21;01mversion\u001b[39;00m \u001b[38;5;28;01mimport\u001b[39;00m parse \u001b[38;5;28;01mas\u001b[39;00m parse_version\n\u001b[0;32m    187\u001b[0m \u001b[38;5;66;03m# cbook must import matplotlib only within function\u001b[39;00m\n\u001b[0;32m    188\u001b[0m \u001b[38;5;66;03m# definitions, so it is safe to import from it here.\u001b[39;00m\n\u001b[1;32m--> 189\u001b[0m \u001b[38;5;28;01mfrom\u001b[39;00m \u001b[38;5;21;01m.\u001b[39;00m \u001b[38;5;28;01mimport\u001b[39;00m _api, _version, cbook, _docstring, rcsetup\n\u001b[0;32m    190\u001b[0m \u001b[38;5;28;01mfrom\u001b[39;00m \u001b[38;5;21;01mmatplotlib\u001b[39;00m\u001b[38;5;21;01m.\u001b[39;00m\u001b[38;5;21;01mcbook\u001b[39;00m \u001b[38;5;28;01mimport\u001b[39;00m sanitize_sequence\n\u001b[0;32m    191\u001b[0m \u001b[38;5;28;01mfrom\u001b[39;00m \u001b[38;5;21;01mmatplotlib\u001b[39;00m\u001b[38;5;21;01m.\u001b[39;00m\u001b[38;5;21;01m_api\u001b[39;00m \u001b[38;5;28;01mimport\u001b[39;00m MatplotlibDeprecationWarning\n",
      "File \u001b[1;32mc:\\Users\\fajar\\AppData\\Local\\Programs\\Python\\Python39\\lib\\site-packages\\matplotlib\\rcsetup.py:27\u001b[0m\n\u001b[0;32m     25\u001b[0m \u001b[38;5;28;01mfrom\u001b[39;00m \u001b[38;5;21;01mmatplotlib\u001b[39;00m \u001b[38;5;28;01mimport\u001b[39;00m _api, cbook\n\u001b[0;32m     26\u001b[0m \u001b[38;5;28;01mfrom\u001b[39;00m \u001b[38;5;21;01mmatplotlib\u001b[39;00m\u001b[38;5;21;01m.\u001b[39;00m\u001b[38;5;21;01mcbook\u001b[39;00m \u001b[38;5;28;01mimport\u001b[39;00m ls_mapper\n\u001b[1;32m---> 27\u001b[0m \u001b[38;5;28;01mfrom\u001b[39;00m \u001b[38;5;21;01mmatplotlib\u001b[39;00m\u001b[38;5;21;01m.\u001b[39;00m\u001b[38;5;21;01mcolors\u001b[39;00m \u001b[38;5;28;01mimport\u001b[39;00m Colormap, is_color_like\n\u001b[0;32m     28\u001b[0m \u001b[38;5;28;01mfrom\u001b[39;00m \u001b[38;5;21;01mmatplotlib\u001b[39;00m\u001b[38;5;21;01m.\u001b[39;00m\u001b[38;5;21;01m_fontconfig_pattern\u001b[39;00m \u001b[38;5;28;01mimport\u001b[39;00m parse_fontconfig_pattern\n\u001b[0;32m     29\u001b[0m \u001b[38;5;28;01mfrom\u001b[39;00m \u001b[38;5;21;01mmatplotlib\u001b[39;00m\u001b[38;5;21;01m.\u001b[39;00m\u001b[38;5;21;01m_enums\u001b[39;00m \u001b[38;5;28;01mimport\u001b[39;00m JoinStyle, CapStyle\n",
      "File \u001b[1;32mc:\\Users\\fajar\\AppData\\Local\\Programs\\Python\\Python39\\lib\\site-packages\\matplotlib\\colors.py:57\u001b[0m\n\u001b[0;32m     55\u001b[0m \u001b[38;5;28;01mimport\u001b[39;00m \u001b[38;5;21;01mmatplotlib\u001b[39;00m \u001b[38;5;28;01mas\u001b[39;00m \u001b[38;5;21;01mmpl\u001b[39;00m\n\u001b[0;32m     56\u001b[0m \u001b[38;5;28;01mimport\u001b[39;00m \u001b[38;5;21;01mnumpy\u001b[39;00m \u001b[38;5;28;01mas\u001b[39;00m \u001b[38;5;21;01mnp\u001b[39;00m\n\u001b[1;32m---> 57\u001b[0m \u001b[38;5;28;01mfrom\u001b[39;00m \u001b[38;5;21;01mmatplotlib\u001b[39;00m \u001b[38;5;28;01mimport\u001b[39;00m _api, _cm, cbook, scale\n\u001b[0;32m     58\u001b[0m \u001b[38;5;28;01mfrom\u001b[39;00m \u001b[38;5;21;01m.\u001b[39;00m\u001b[38;5;21;01m_color_data\u001b[39;00m \u001b[38;5;28;01mimport\u001b[39;00m BASE_COLORS, TABLEAU_COLORS, CSS4_COLORS, XKCD_COLORS\n\u001b[0;32m     61\u001b[0m \u001b[38;5;28;01mclass\u001b[39;00m \u001b[38;5;21;01m_ColorMapping\u001b[39;00m(\u001b[38;5;28mdict\u001b[39m):\n",
      "File \u001b[1;32mc:\\Users\\fajar\\AppData\\Local\\Programs\\Python\\Python39\\lib\\site-packages\\matplotlib\\scale.py:22\u001b[0m\n\u001b[0;32m     20\u001b[0m \u001b[38;5;28;01mimport\u001b[39;00m \u001b[38;5;21;01mmatplotlib\u001b[39;00m \u001b[38;5;28;01mas\u001b[39;00m \u001b[38;5;21;01mmpl\u001b[39;00m\n\u001b[0;32m     21\u001b[0m \u001b[38;5;28;01mfrom\u001b[39;00m \u001b[38;5;21;01mmatplotlib\u001b[39;00m \u001b[38;5;28;01mimport\u001b[39;00m _api, _docstring\n\u001b[1;32m---> 22\u001b[0m \u001b[38;5;28;01mfrom\u001b[39;00m \u001b[38;5;21;01mmatplotlib\u001b[39;00m\u001b[38;5;21;01m.\u001b[39;00m\u001b[38;5;21;01mticker\u001b[39;00m \u001b[38;5;28;01mimport\u001b[39;00m (\n\u001b[0;32m     23\u001b[0m     NullFormatter, ScalarFormatter, LogFormatterSciNotation, LogitFormatter,\n\u001b[0;32m     24\u001b[0m     NullLocator, LogLocator, AutoLocator, AutoMinorLocator,\n\u001b[0;32m     25\u001b[0m     SymmetricalLogLocator, AsinhLocator, LogitLocator)\n\u001b[0;32m     26\u001b[0m \u001b[38;5;28;01mfrom\u001b[39;00m \u001b[38;5;21;01mmatplotlib\u001b[39;00m\u001b[38;5;21;01m.\u001b[39;00m\u001b[38;5;21;01mtransforms\u001b[39;00m \u001b[38;5;28;01mimport\u001b[39;00m Transform, IdentityTransform\n\u001b[0;32m     29\u001b[0m \u001b[38;5;28;01mclass\u001b[39;00m \u001b[38;5;21;01mScaleBase\u001b[39;00m:\n",
      "File \u001b[1;32mc:\\Users\\fajar\\AppData\\Local\\Programs\\Python\\Python39\\lib\\site-packages\\matplotlib\\ticker.py:143\u001b[0m\n\u001b[0;32m    141\u001b[0m \u001b[38;5;28;01mimport\u001b[39;00m \u001b[38;5;21;01mmatplotlib\u001b[39;00m \u001b[38;5;28;01mas\u001b[39;00m \u001b[38;5;21;01mmpl\u001b[39;00m\n\u001b[0;32m    142\u001b[0m \u001b[38;5;28;01mfrom\u001b[39;00m \u001b[38;5;21;01mmatplotlib\u001b[39;00m \u001b[38;5;28;01mimport\u001b[39;00m _api, cbook\n\u001b[1;32m--> 143\u001b[0m \u001b[38;5;28;01mfrom\u001b[39;00m \u001b[38;5;21;01mmatplotlib\u001b[39;00m \u001b[38;5;28;01mimport\u001b[39;00m transforms \u001b[38;5;28;01mas\u001b[39;00m mtransforms\n\u001b[0;32m    145\u001b[0m _log \u001b[38;5;241m=\u001b[39m logging\u001b[38;5;241m.\u001b[39mgetLogger(\u001b[38;5;18m__name__\u001b[39m)\n\u001b[0;32m    147\u001b[0m __all__ \u001b[38;5;241m=\u001b[39m (\u001b[38;5;124m'\u001b[39m\u001b[38;5;124mTickHelper\u001b[39m\u001b[38;5;124m'\u001b[39m, \u001b[38;5;124m'\u001b[39m\u001b[38;5;124mFormatter\u001b[39m\u001b[38;5;124m'\u001b[39m, \u001b[38;5;124m'\u001b[39m\u001b[38;5;124mFixedFormatter\u001b[39m\u001b[38;5;124m'\u001b[39m,\n\u001b[0;32m    148\u001b[0m            \u001b[38;5;124m'\u001b[39m\u001b[38;5;124mNullFormatter\u001b[39m\u001b[38;5;124m'\u001b[39m, \u001b[38;5;124m'\u001b[39m\u001b[38;5;124mFuncFormatter\u001b[39m\u001b[38;5;124m'\u001b[39m, \u001b[38;5;124m'\u001b[39m\u001b[38;5;124mFormatStrFormatter\u001b[39m\u001b[38;5;124m'\u001b[39m,\n\u001b[0;32m    149\u001b[0m            \u001b[38;5;124m'\u001b[39m\u001b[38;5;124mStrMethodFormatter\u001b[39m\u001b[38;5;124m'\u001b[39m, \u001b[38;5;124m'\u001b[39m\u001b[38;5;124mScalarFormatter\u001b[39m\u001b[38;5;124m'\u001b[39m, \u001b[38;5;124m'\u001b[39m\u001b[38;5;124mLogFormatter\u001b[39m\u001b[38;5;124m'\u001b[39m,\n\u001b[1;32m   (...)\u001b[0m\n\u001b[0;32m    155\u001b[0m            \u001b[38;5;124m'\u001b[39m\u001b[38;5;124mMultipleLocator\u001b[39m\u001b[38;5;124m'\u001b[39m, \u001b[38;5;124m'\u001b[39m\u001b[38;5;124mMaxNLocator\u001b[39m\u001b[38;5;124m'\u001b[39m, \u001b[38;5;124m'\u001b[39m\u001b[38;5;124mAutoMinorLocator\u001b[39m\u001b[38;5;124m'\u001b[39m,\n\u001b[0;32m    156\u001b[0m            \u001b[38;5;124m'\u001b[39m\u001b[38;5;124mSymmetricalLogLocator\u001b[39m\u001b[38;5;124m'\u001b[39m, \u001b[38;5;124m'\u001b[39m\u001b[38;5;124mAsinhLocator\u001b[39m\u001b[38;5;124m'\u001b[39m, \u001b[38;5;124m'\u001b[39m\u001b[38;5;124mLogitLocator\u001b[39m\u001b[38;5;124m'\u001b[39m)\n",
      "File \u001b[1;32mc:\\Users\\fajar\\AppData\\Local\\Programs\\Python\\Python39\\lib\\site-packages\\matplotlib\\transforms.py:49\u001b[0m\n\u001b[0;32m     46\u001b[0m \u001b[38;5;28;01mfrom\u001b[39;00m \u001b[38;5;21;01mnumpy\u001b[39;00m\u001b[38;5;21;01m.\u001b[39;00m\u001b[38;5;21;01mlinalg\u001b[39;00m \u001b[38;5;28;01mimport\u001b[39;00m inv\n\u001b[0;32m     48\u001b[0m \u001b[38;5;28;01mfrom\u001b[39;00m \u001b[38;5;21;01mmatplotlib\u001b[39;00m \u001b[38;5;28;01mimport\u001b[39;00m _api\n\u001b[1;32m---> 49\u001b[0m \u001b[38;5;28;01mfrom\u001b[39;00m \u001b[38;5;21;01mmatplotlib\u001b[39;00m\u001b[38;5;21;01m.\u001b[39;00m\u001b[38;5;21;01m_path\u001b[39;00m \u001b[38;5;28;01mimport\u001b[39;00m (\n\u001b[0;32m     50\u001b[0m     affine_transform, count_bboxes_overlapping_bbox, update_path_extents)\n\u001b[0;32m     51\u001b[0m \u001b[38;5;28;01mfrom\u001b[39;00m \u001b[38;5;21;01m.\u001b[39;00m\u001b[38;5;21;01mpath\u001b[39;00m \u001b[38;5;28;01mimport\u001b[39;00m Path\n\u001b[0;32m     53\u001b[0m DEBUG \u001b[38;5;241m=\u001b[39m \u001b[38;5;28;01mFalse\u001b[39;00m\n",
      "\u001b[1;31mImportError\u001b[0m: DLL load failed while importing _path: The specified module could not be found."
     ]
    }
   ],
   "source": [
    "import pandas as pd\n",
    "import tensorflow as tf\n",
    "import numpy as np\n",
    "from sklearn.preprocessing import MinMaxScaler\n",
    "from tensorflow.keras.models import Sequential\n",
    "from tensorflow.keras.layers import Conv1D, MaxPooling1D, Flatten, Dense, Dropout\n",
    "from sklearn.model_selection import train_test_split\n",
    "from sklearn.preprocessing import StandardScaler\n",
    "from sklearn.metrics import classification_report\n",
    "from imblearn.over_sampling import SMOTE\n",
    "from tensorflow.keras.regularizers import l2\n",
    "from tensorflow.keras.layers import BatchNormalization\n",
    "from sklearn.model_selection import StratifiedKFold\n",
    "from tensorflow.keras.optimizers import Nadam\n",
    "import matplotlib.pyplot as plt"
   ]
  },
  {
   "cell_type": "code",
   "execution_count": null,
   "metadata": {},
   "outputs": [
    {
     "name": "stdout",
     "output_type": "stream",
     "text": [
      "2.16.1\n"
     ]
    }
   ],
   "source": [
    "print(tf.__version__)"
   ]
  },
  {
   "cell_type": "code",
   "execution_count": null,
   "metadata": {},
   "outputs": [],
   "source": [
    "data = pd.read_csv(\"convert_numeric.csv\", delimiter=\",\")"
   ]
  },
  {
   "cell_type": "code",
   "execution_count": null,
   "metadata": {},
   "outputs": [
    {
     "data": {
      "text/html": [
       "<div>\n",
       "<style scoped>\n",
       "    .dataframe tbody tr th:only-of-type {\n",
       "        vertical-align: middle;\n",
       "    }\n",
       "\n",
       "    .dataframe tbody tr th {\n",
       "        vertical-align: top;\n",
       "    }\n",
       "\n",
       "    .dataframe thead th {\n",
       "        text-align: right;\n",
       "    }\n",
       "</style>\n",
       "<table border=\"1\" class=\"dataframe\">\n",
       "  <thead>\n",
       "    <tr style=\"text-align: right;\">\n",
       "      <th></th>\n",
       "      <th>status</th>\n",
       "      <th>duration</th>\n",
       "      <th>credit_history</th>\n",
       "      <th>purpose</th>\n",
       "      <th>amount</th>\n",
       "      <th>savings</th>\n",
       "      <th>employment_duration</th>\n",
       "      <th>installment_rate</th>\n",
       "      <th>gender</th>\n",
       "      <th>marital_status</th>\n",
       "      <th>...</th>\n",
       "      <th>property</th>\n",
       "      <th>age</th>\n",
       "      <th>other_installment_plans</th>\n",
       "      <th>housing</th>\n",
       "      <th>number_credits</th>\n",
       "      <th>job</th>\n",
       "      <th>people_liable</th>\n",
       "      <th>telephone</th>\n",
       "      <th>foreign_worker</th>\n",
       "      <th>credit_risk</th>\n",
       "    </tr>\n",
       "  </thead>\n",
       "  <tbody>\n",
       "    <tr>\n",
       "      <th>0</th>\n",
       "      <td>0</td>\n",
       "      <td>6</td>\n",
       "      <td>1</td>\n",
       "      <td>3</td>\n",
       "      <td>1169</td>\n",
       "      <td>4</td>\n",
       "      <td>1</td>\n",
       "      <td>4</td>\n",
       "      <td>1</td>\n",
       "      <td>3</td>\n",
       "      <td>...</td>\n",
       "      <td>2</td>\n",
       "      <td>67</td>\n",
       "      <td>1</td>\n",
       "      <td>1</td>\n",
       "      <td>2</td>\n",
       "      <td>1</td>\n",
       "      <td>1</td>\n",
       "      <td>1</td>\n",
       "      <td>1</td>\n",
       "      <td>1</td>\n",
       "    </tr>\n",
       "    <tr>\n",
       "      <th>1</th>\n",
       "      <td>2</td>\n",
       "      <td>48</td>\n",
       "      <td>3</td>\n",
       "      <td>3</td>\n",
       "      <td>5951</td>\n",
       "      <td>0</td>\n",
       "      <td>2</td>\n",
       "      <td>2</td>\n",
       "      <td>0</td>\n",
       "      <td>1</td>\n",
       "      <td>...</td>\n",
       "      <td>2</td>\n",
       "      <td>22</td>\n",
       "      <td>1</td>\n",
       "      <td>1</td>\n",
       "      <td>1</td>\n",
       "      <td>1</td>\n",
       "      <td>1</td>\n",
       "      <td>0</td>\n",
       "      <td>1</td>\n",
       "      <td>0</td>\n",
       "    </tr>\n",
       "    <tr>\n",
       "      <th>2</th>\n",
       "      <td>3</td>\n",
       "      <td>12</td>\n",
       "      <td>1</td>\n",
       "      <td>9</td>\n",
       "      <td>2096</td>\n",
       "      <td>0</td>\n",
       "      <td>3</td>\n",
       "      <td>2</td>\n",
       "      <td>1</td>\n",
       "      <td>3</td>\n",
       "      <td>...</td>\n",
       "      <td>2</td>\n",
       "      <td>49</td>\n",
       "      <td>1</td>\n",
       "      <td>1</td>\n",
       "      <td>1</td>\n",
       "      <td>3</td>\n",
       "      <td>2</td>\n",
       "      <td>0</td>\n",
       "      <td>1</td>\n",
       "      <td>1</td>\n",
       "    </tr>\n",
       "    <tr>\n",
       "      <th>3</th>\n",
       "      <td>0</td>\n",
       "      <td>42</td>\n",
       "      <td>3</td>\n",
       "      <td>7</td>\n",
       "      <td>7882</td>\n",
       "      <td>0</td>\n",
       "      <td>3</td>\n",
       "      <td>2</td>\n",
       "      <td>1</td>\n",
       "      <td>3</td>\n",
       "      <td>...</td>\n",
       "      <td>0</td>\n",
       "      <td>45</td>\n",
       "      <td>1</td>\n",
       "      <td>0</td>\n",
       "      <td>1</td>\n",
       "      <td>1</td>\n",
       "      <td>2</td>\n",
       "      <td>0</td>\n",
       "      <td>1</td>\n",
       "      <td>1</td>\n",
       "    </tr>\n",
       "    <tr>\n",
       "      <th>4</th>\n",
       "      <td>0</td>\n",
       "      <td>24</td>\n",
       "      <td>2</td>\n",
       "      <td>1</td>\n",
       "      <td>4870</td>\n",
       "      <td>0</td>\n",
       "      <td>2</td>\n",
       "      <td>3</td>\n",
       "      <td>1</td>\n",
       "      <td>3</td>\n",
       "      <td>...</td>\n",
       "      <td>3</td>\n",
       "      <td>53</td>\n",
       "      <td>1</td>\n",
       "      <td>0</td>\n",
       "      <td>2</td>\n",
       "      <td>1</td>\n",
       "      <td>2</td>\n",
       "      <td>0</td>\n",
       "      <td>1</td>\n",
       "      <td>0</td>\n",
       "    </tr>\n",
       "  </tbody>\n",
       "</table>\n",
       "<p>5 rows × 22 columns</p>\n",
       "</div>"
      ],
      "text/plain": [
       "   status  duration  credit_history  purpose  amount  savings  \\\n",
       "0       0         6               1        3    1169        4   \n",
       "1       2        48               3        3    5951        0   \n",
       "2       3        12               1        9    2096        0   \n",
       "3       0        42               3        7    7882        0   \n",
       "4       0        24               2        1    4870        0   \n",
       "\n",
       "   employment_duration  installment_rate  gender  marital_status  ...  \\\n",
       "0                    1                 4       1               3  ...   \n",
       "1                    2                 2       0               1  ...   \n",
       "2                    3                 2       1               3  ...   \n",
       "3                    3                 2       1               3  ...   \n",
       "4                    2                 3       1               3  ...   \n",
       "\n",
       "   property  age  other_installment_plans  housing  number_credits  job  \\\n",
       "0         2   67                        1        1               2    1   \n",
       "1         2   22                        1        1               1    1   \n",
       "2         2   49                        1        1               1    3   \n",
       "3         0   45                        1        0               1    1   \n",
       "4         3   53                        1        0               2    1   \n",
       "\n",
       "   people_liable  telephone  foreign_worker  credit_risk  \n",
       "0              1          1               1            1  \n",
       "1              1          0               1            0  \n",
       "2              2          0               1            1  \n",
       "3              2          0               1            1  \n",
       "4              2          0               1            0  \n",
       "\n",
       "[5 rows x 22 columns]"
      ]
     },
     "execution_count": 4,
     "metadata": {},
     "output_type": "execute_result"
    }
   ],
   "source": [
    "data.head()"
   ]
  },
  {
   "cell_type": "code",
   "execution_count": null,
   "metadata": {},
   "outputs": [],
   "source": [
    "X = data.drop('credit_risk', axis=1)  \n",
    "y = data['credit_risk']"
   ]
  },
  {
   "cell_type": "code",
   "execution_count": null,
   "metadata": {},
   "outputs": [
    {
     "data": {
      "image/png": "[encoded data removed]",
      "text/plain": [
       "<Figure size 1000x600 with 1 Axes>"
      ]
     },
     "metadata": {},
     "output_type": "display_data"
    }
   ],
   "source": [
    "# Kolom-kolom yang akan dibuat boxplot\n",
    "columns_to_plot = ['duration', 'amount', 'installment_rate', 'present_residence', 'age', 'number_credits', 'people_liable']\n",
    "\n",
    "# Buat boxplot sebelum outlier handling\n",
    "plt.figure(figsize=(10, 6))\n",
    "X[columns_to_plot].boxplot()\n",
    "plt.title('Boxplot for Selected Columns Before Removing Outliers')\n",
    "plt.ylabel('Values')\n",
    "plt.xticks(rotation=45)\n",
    "plt.show()\n"
   ]
  },
  {
   "cell_type": "code",
   "execution_count": null,
   "metadata": {},
   "outputs": [
    {
     "name": "stdout",
     "output_type": "stream",
     "text": [
      "Jumlah baris sebelum menghapus outlier: 1000\n",
      "Jumlah baris setelah menghapus outlier: 928\n"
     ]
    }
   ],
   "source": [
    "# Kolom yang akan dihilangkan outliernya\n",
    "column = 'amount'\n",
    "\n",
    "# Hitung kuartil pertama (Q1) dan kuartil ketiga (Q3)\n",
    "Q1 = X[column].quantile(0.2)\n",
    "Q3 = X[column].quantile(0.8)\n",
    "\n",
    "# Hitung IQR (Interquartile Range)\n",
    "IQR = Q3 - Q1\n",
    "\n",
    "# Tentukan batas bawah dan batas atas\n",
    "lower_bound = Q1 - 1.5 * IQR\n",
    "upper_bound = Q3 + 1.5 * IQR\n",
    "\n",
    "# Filter seluruh DataFrame untuk menghilangkan baris dengan outlier di kolom 'amount'\n",
    "X_no_outliers = X[(X[column] >= lower_bound) & (X[column] <= upper_bound)]\n",
    "\n",
    "# Tampilkan hasil\n",
    "print(\"Jumlah baris sebelum menghapus outlier:\", len(X))\n",
    "print(\"Jumlah baris setelah menghapus outlier:\", len(X_no_outliers))"
   ]
  },
  {
   "cell_type": "code",
   "execution_count": 3,
   "metadata": {},
   "outputs": [
    {
     "ename": "NameError",
     "evalue": "name 'plt' is not defined",
     "output_type": "error",
     "traceback": [
      "\u001b[1;31m---------------------------------------------------------------------------\u001b[0m",
      "\u001b[1;31mNameError\u001b[0m                                 Traceback (most recent call last)",
      "Cell \u001b[1;32mIn[3], line 2\u001b[0m\n\u001b[0;32m      1\u001b[0m \u001b[38;5;66;03m# Buat boxplot untuk kolom-kolom yang dipilih setelah menghilangkan outlier\u001b[39;00m\n\u001b[1;32m----> 2\u001b[0m \u001b[43mplt\u001b[49m\u001b[38;5;241m.\u001b[39mfigure(figsize\u001b[38;5;241m=\u001b[39m(\u001b[38;5;241m10\u001b[39m, \u001b[38;5;241m6\u001b[39m))\n\u001b[0;32m      3\u001b[0m X_no_outliers[columns_to_plot]\u001b[38;5;241m.\u001b[39mboxplot()\n\u001b[0;32m      4\u001b[0m plt\u001b[38;5;241m.\u001b[39mtitle(\u001b[38;5;124m'\u001b[39m\u001b[38;5;124mBoxplot for Selected Columns After Removing Outliers in Amount\u001b[39m\u001b[38;5;124m'\u001b[39m)\n",
      "\u001b[1;31mNameError\u001b[0m: name 'plt' is not defined"
     ]
    }
   ],
   "source": [
    "# Buat boxplot untuk kolom-kolom yang dipilih setelah menghilangkan outlier\n",
    "plt.figure(figsize=(10, 6))\n",
    "X_no_outliers[columns_to_plot].boxplot()\n",
    "plt.title('Boxplot for Selected Columns After Removing Outliers in Amount')\n",
    "plt.ylabel('Values')\n",
    "plt.xticks(rotation=45)\n",
    "plt.show()"
   ]
  },
  {
   "cell_type": "code",
   "execution_count": 4,
   "metadata": {},
   "outputs": [
    {
     "ename": "NameError",
     "evalue": "name 'X_no_outliers' is not defined",
     "output_type": "error",
     "traceback": [
      "\u001b[1;31m---------------------------------------------------------------------------\u001b[0m",
      "\u001b[1;31mNameError\u001b[0m                                 Traceback (most recent call last)",
      "Cell \u001b[1;32mIn[4], line 3\u001b[0m\n\u001b[0;32m      1\u001b[0m \u001b[38;5;66;03m# Terapkan StandardScaler ke fitur\u001b[39;00m\n\u001b[0;32m      2\u001b[0m scaler \u001b[38;5;241m=\u001b[39m StandardScaler()\n\u001b[1;32m----> 3\u001b[0m X_normalized \u001b[38;5;241m=\u001b[39m scaler\u001b[38;5;241m.\u001b[39mfit_transform(\u001b[43mX_no_outliers\u001b[49m)\n\u001b[0;32m      5\u001b[0m \u001b[38;5;66;03m# Konversi hasil normalisasi kembali ke DataFrame\u001b[39;00m\n\u001b[0;32m      6\u001b[0m X_normalized_df \u001b[38;5;241m=\u001b[39m pd\u001b[38;5;241m.\u001b[39mDataFrame(X_normalized, columns\u001b[38;5;241m=\u001b[39mX\u001b[38;5;241m.\u001b[39mcolumns)\n",
      "\u001b[1;31mNameError\u001b[0m: name 'X_no_outliers' is not defined"
     ]
    }
   ],
   "source": [
    "# Terapkan StandardScaler ke fitur\n",
    "scaler = StandardScaler()\n",
    "X_normalized = scaler.fit_transform(X_no_outliers)\n",
    "\n",
    "# Konversi hasil normalisasi kembali ke DataFrame\n",
    "X_normalized_df = pd.DataFrame(X_normalized, columns=X.columns)"
   ]
  },
  {
   "cell_type": "code",
   "execution_count": 5,
   "metadata": {},
   "outputs": [
    {
     "ename": "NameError",
     "evalue": "name 'plt' is not defined",
     "output_type": "error",
     "traceback": [
      "\u001b[1;31m---------------------------------------------------------------------------\u001b[0m",
      "\u001b[1;31mNameError\u001b[0m                                 Traceback (most recent call last)",
      "Cell \u001b[1;32mIn[5], line 2\u001b[0m\n\u001b[0;32m      1\u001b[0m \u001b[38;5;66;03m# Membuat figure dengan subplots (6 baris, 4 kolom)\u001b[39;00m\n\u001b[1;32m----> 2\u001b[0m fig, axes \u001b[38;5;241m=\u001b[39m \u001b[43mplt\u001b[49m\u001b[38;5;241m.\u001b[39msubplots(nrows\u001b[38;5;241m=\u001b[39m\u001b[38;5;241m6\u001b[39m, ncols\u001b[38;5;241m=\u001b[39m\u001b[38;5;241m4\u001b[39m, figsize\u001b[38;5;241m=\u001b[39m(\u001b[38;5;241m15\u001b[39m, \u001b[38;5;241m15\u001b[39m))\n\u001b[0;32m      4\u001b[0m \u001b[38;5;66;03m# Meratakan array 2D dari axes untuk iterasi yang lebih mudah\u001b[39;00m\n\u001b[0;32m      5\u001b[0m axes \u001b[38;5;241m=\u001b[39m axes\u001b[38;5;241m.\u001b[39mflatten()\n",
      "\u001b[1;31mNameError\u001b[0m: name 'plt' is not defined"
     ]
    }
   ],
   "source": [
    "# Membuat figure dengan subplots (6 baris, 4 kolom)\n",
    "fig, axes = plt.subplots(nrows=6, ncols=4, figsize=(15, 15))\n",
    "\n",
    "# Meratakan array 2D dari axes untuk iterasi yang lebih mudah\n",
    "axes = axes.flatten()\n",
    "\n",
    "# Iterasi setiap kolom dan membuat boxplot pada subplot\n",
    "for i, column in enumerate(X_normalized_df.columns):\n",
    "    axes[i].boxplot(X_normalized_df[column].values, vert=False, patch_artist=True, showmeans=True, widths=0.5)  # Horizontal boxplot with mean marker\n",
    "    axes[i].set_title(column)\n",
    "    axes[i].set_xlabel('Value')\n",
    "\n",
    "# Sembunyikan subplot yang tidak terpakai\n",
    "for j in range(len(X_normalized_df.columns), len(axes)):\n",
    "    fig.delaxes(axes[j])\n",
    "\n",
    "# Sesuaikan layout untuk mencegah tumpang tindih judul\n",
    "plt.tight_layout()\n",
    "\n",
    "# Tampilkan plot\n",
    "plt.show()"
   ]
  },
  {
   "cell_type": "code",
   "execution_count": null,
   "metadata": {},
   "outputs": [],
   "source": [
    "# Reshape X for the CNN: (samples, time steps, features)\n",
    "X_cnn = X_normalized_df.values.reshape(X_normalized_df.shape[0], X_normalized_df.shape[1], 1)\n",
    "\n",
    "# Split data menjadi training dan testing sets\n",
    "X_train, X_test, y_train, y_test = train_test_split(X_cnn, y, test_size=0.2, random_state=42)   "
   ]
  },
  {
   "cell_type": "code",
   "execution_count": 36,
   "metadata": {},
   "outputs": [],
   "source": [
    "# Menyeimbangkan data pelatihan menggunakan SMOTE\n",
    "smote = SMOTE(random_state=42)\n",
    "X_train_smote, y_train_smote = smote.fit_resample(X_train.reshape(X_train.shape[0], X_train.shape[1]), y_train)\n",
    "X_train_smote = X_train_smote.reshape(X_train_smote.shape[0], X_train_smote.shape[1], 1)"
   ]
  },
  {
   "cell_type": "code",
   "execution_count": 37,
   "metadata": {},
   "outputs": [
    {
     "name": "stdout",
     "output_type": "stream",
     "text": [
      "Korelasi fitur dengan target:\n",
      "status                     0.290741\n",
      "duration                  -0.201824\n",
      "credit_history            -0.112102\n",
      "purpose                   -0.047322\n",
      "amount                    -0.163245\n",
      "savings                    0.125372\n",
      "employment_duration        0.009887\n",
      "installment_rate          -0.044767\n",
      "gender                     0.090616\n",
      "marital_status             0.104205\n",
      "other_debtors             -0.002050\n",
      "present_residence         -0.009999\n",
      "property                  -0.030593\n",
      "age                        0.138957\n",
      "other_installment_plans    0.070455\n",
      "housing                   -0.015638\n",
      "number_credits             0.033493\n",
      "job                        0.060964\n",
      "people_liable              0.004999\n",
      "telephone                  0.028815\n",
      "foreign_worker            -0.080573\n",
      "dtype: float64\n"
     ]
    }
   ],
   "source": [
    "correlation_matrix = X.corrwith(y_train)\n",
    "print(\"Korelasi fitur dengan target:\")\n",
    "print(correlation_matrix)"
   ]
  },
  {
   "cell_type": "code",
   "execution_count": 53,
   "metadata": {},
   "outputs": [
    {
     "name": "stdout",
     "output_type": "stream",
     "text": [
      "Epoch 1/100\n",
      "35/35 [==============================] - 1s 12ms/step - loss: 2.2875 - accuracy: 0.5027 - val_loss: 1.9635 - val_accuracy: 0.4800\n",
      "Epoch 2/100\n",
      "35/35 [==============================] - 0s 5ms/step - loss: 2.0366 - accuracy: 0.5608 - val_loss: 1.8869 - val_accuracy: 0.3800\n",
      "Epoch 3/100\n",
      "35/35 [==============================] - 0s 6ms/step - loss: 1.9157 - accuracy: 0.5796 - val_loss: 1.7940 - val_accuracy: 0.3850\n",
      "Epoch 4/100\n",
      "35/35 [==============================] - 0s 5ms/step - loss: 1.7780 - accuracy: 0.6306 - val_loss: 1.7327 - val_accuracy: 0.4100\n",
      "Epoch 5/100\n",
      "35/35 [==============================] - 0s 5ms/step - loss: 1.6801 - accuracy: 0.6404 - val_loss: 1.6947 - val_accuracy: 0.3700\n",
      "Epoch 6/100\n",
      "35/35 [==============================] - 0s 5ms/step - loss: 1.5817 - accuracy: 0.6377 - val_loss: 1.6424 - val_accuracy: 0.3800\n",
      "Epoch 7/100\n",
      "35/35 [==============================] - 0s 5ms/step - loss: 1.4790 - accuracy: 0.6753 - val_loss: 1.5960 - val_accuracy: 0.4050\n",
      "Epoch 8/100\n",
      "35/35 [==============================] - 0s 5ms/step - loss: 1.4336 - accuracy: 0.6878 - val_loss: 1.5332 - val_accuracy: 0.4250\n",
      "Epoch 9/100\n",
      "35/35 [==============================] - 0s 5ms/step - loss: 1.3933 - accuracy: 0.6583 - val_loss: 1.4787 - val_accuracy: 0.4500\n",
      "Epoch 10/100\n",
      "35/35 [==============================] - 0s 5ms/step - loss: 1.3415 - accuracy: 0.6485 - val_loss: 1.4097 - val_accuracy: 0.4800\n",
      "Epoch 11/100\n",
      "35/35 [==============================] - 0s 5ms/step - loss: 1.2662 - accuracy: 0.6816 - val_loss: 1.3728 - val_accuracy: 0.4900\n",
      "Epoch 12/100\n",
      "35/35 [==============================] - 0s 5ms/step - loss: 1.2066 - accuracy: 0.7021 - val_loss: 1.3032 - val_accuracy: 0.5100\n",
      "Epoch 13/100\n",
      "35/35 [==============================] - 0s 5ms/step - loss: 1.1824 - accuracy: 0.6852 - val_loss: 1.2797 - val_accuracy: 0.5100\n",
      "Epoch 14/100\n",
      "35/35 [==============================] - 0s 5ms/step - loss: 1.1271 - accuracy: 0.7111 - val_loss: 1.2227 - val_accuracy: 0.5650\n",
      "Epoch 15/100\n",
      "35/35 [==============================] - 0s 5ms/step - loss: 1.0949 - accuracy: 0.7075 - val_loss: 1.1773 - val_accuracy: 0.5600\n",
      "Epoch 16/100\n",
      "35/35 [==============================] - 0s 5ms/step - loss: 1.0344 - accuracy: 0.7182 - val_loss: 1.1782 - val_accuracy: 0.5450\n",
      "Epoch 17/100\n",
      "35/35 [==============================] - 0s 5ms/step - loss: 1.0029 - accuracy: 0.7281 - val_loss: 1.1320 - val_accuracy: 0.6050\n",
      "Epoch 18/100\n",
      "35/35 [==============================] - 0s 5ms/step - loss: 0.9664 - accuracy: 0.7433 - val_loss: 1.1067 - val_accuracy: 0.6100\n",
      "Epoch 19/100\n",
      "35/35 [==============================] - 0s 5ms/step - loss: 0.9456 - accuracy: 0.7397 - val_loss: 1.0854 - val_accuracy: 0.6150\n",
      "Epoch 20/100\n",
      "35/35 [==============================] - 0s 5ms/step - loss: 0.9091 - accuracy: 0.7513 - val_loss: 1.0695 - val_accuracy: 0.6350\n",
      "Epoch 21/100\n",
      "35/35 [==============================] - 0s 6ms/step - loss: 0.8722 - accuracy: 0.7496 - val_loss: 1.0395 - val_accuracy: 0.6300\n",
      "Epoch 22/100\n",
      "35/35 [==============================] - 0s 5ms/step - loss: 0.8557 - accuracy: 0.7442 - val_loss: 1.0323 - val_accuracy: 0.6150\n",
      "Epoch 23/100\n",
      "35/35 [==============================] - 0s 5ms/step - loss: 0.8581 - accuracy: 0.7352 - val_loss: 1.0064 - val_accuracy: 0.6100\n",
      "Epoch 24/100\n",
      "35/35 [==============================] - 0s 5ms/step - loss: 0.8152 - accuracy: 0.7522 - val_loss: 1.0003 - val_accuracy: 0.6100\n",
      "Epoch 25/100\n",
      "35/35 [==============================] - 0s 5ms/step - loss: 0.7870 - accuracy: 0.7612 - val_loss: 0.9562 - val_accuracy: 0.6250\n",
      "Epoch 26/100\n",
      "35/35 [==============================] - 0s 5ms/step - loss: 0.7737 - accuracy: 0.7683 - val_loss: 0.9713 - val_accuracy: 0.6000\n",
      "Epoch 27/100\n",
      "35/35 [==============================] - 0s 5ms/step - loss: 0.7558 - accuracy: 0.7639 - val_loss: 0.9458 - val_accuracy: 0.6050\n",
      "Epoch 28/100\n",
      "35/35 [==============================] - 0s 5ms/step - loss: 0.7187 - accuracy: 0.7692 - val_loss: 0.9385 - val_accuracy: 0.6200\n",
      "Epoch 29/100\n",
      "35/35 [==============================] - 0s 5ms/step - loss: 0.7187 - accuracy: 0.7692 - val_loss: 0.9391 - val_accuracy: 0.6050\n",
      "Epoch 30/100\n",
      "35/35 [==============================] - 0s 5ms/step - loss: 0.6952 - accuracy: 0.7791 - val_loss: 0.9236 - val_accuracy: 0.5850\n",
      "Epoch 31/100\n",
      "35/35 [==============================] - 0s 5ms/step - loss: 0.6996 - accuracy: 0.7585 - val_loss: 0.9688 - val_accuracy: 0.6350\n",
      "Epoch 32/100\n",
      "35/35 [==============================] - 0s 5ms/step - loss: 0.6841 - accuracy: 0.7800 - val_loss: 0.9281 - val_accuracy: 0.6150\n",
      "Epoch 33/100\n",
      "35/35 [==============================] - 0s 5ms/step - loss: 0.6726 - accuracy: 0.7728 - val_loss: 0.9279 - val_accuracy: 0.6050\n",
      "Epoch 34/100\n",
      "35/35 [==============================] - 0s 5ms/step - loss: 0.6480 - accuracy: 0.7970 - val_loss: 0.8897 - val_accuracy: 0.6250\n",
      "Epoch 35/100\n",
      "35/35 [==============================] - 0s 5ms/step - loss: 0.6216 - accuracy: 0.7943 - val_loss: 0.9194 - val_accuracy: 0.6100\n",
      "Epoch 36/100\n",
      "35/35 [==============================] - 0s 6ms/step - loss: 0.6304 - accuracy: 0.7871 - val_loss: 0.9169 - val_accuracy: 0.6150\n",
      "Epoch 37/100\n",
      "35/35 [==============================] - 0s 5ms/step - loss: 0.6212 - accuracy: 0.8041 - val_loss: 0.9149 - val_accuracy: 0.6000\n",
      "Epoch 38/100\n",
      "35/35 [==============================] - 0s 5ms/step - loss: 0.6373 - accuracy: 0.7773 - val_loss: 0.9263 - val_accuracy: 0.5950\n",
      "Epoch 39/100\n",
      "35/35 [==============================] - 0s 5ms/step - loss: 0.6101 - accuracy: 0.7898 - val_loss: 0.8999 - val_accuracy: 0.5900\n",
      "Epoch 40/100\n",
      "35/35 [==============================] - 0s 6ms/step - loss: 0.6017 - accuracy: 0.8095 - val_loss: 0.9429 - val_accuracy: 0.6150\n",
      "Epoch 41/100\n",
      "35/35 [==============================] - 0s 8ms/step - loss: 0.5866 - accuracy: 0.8113 - val_loss: 0.9001 - val_accuracy: 0.6600\n",
      "Epoch 42/100\n",
      "35/35 [==============================] - 0s 8ms/step - loss: 0.5725 - accuracy: 0.8032 - val_loss: 0.8719 - val_accuracy: 0.6250\n",
      "Epoch 43/100\n",
      "35/35 [==============================] - 0s 9ms/step - loss: 0.5754 - accuracy: 0.8077 - val_loss: 0.8788 - val_accuracy: 0.6050\n",
      "Epoch 44/100\n",
      "35/35 [==============================] - 0s 9ms/step - loss: 0.5936 - accuracy: 0.8014 - val_loss: 0.8900 - val_accuracy: 0.6400\n",
      "Epoch 45/100\n",
      "35/35 [==============================] - 0s 9ms/step - loss: 0.5824 - accuracy: 0.8050 - val_loss: 0.8667 - val_accuracy: 0.6500\n",
      "Epoch 46/100\n",
      "35/35 [==============================] - 0s 7ms/step - loss: 0.5787 - accuracy: 0.8050 - val_loss: 0.8663 - val_accuracy: 0.6400\n",
      "Epoch 47/100\n",
      "35/35 [==============================] - 0s 7ms/step - loss: 0.5738 - accuracy: 0.8041 - val_loss: 0.8271 - val_accuracy: 0.6600\n",
      "Epoch 48/100\n",
      "35/35 [==============================] - 0s 6ms/step - loss: 0.5689 - accuracy: 0.8122 - val_loss: 0.8530 - val_accuracy: 0.6750\n",
      "Epoch 49/100\n",
      "35/35 [==============================] - 0s 5ms/step - loss: 0.5514 - accuracy: 0.8086 - val_loss: 0.8646 - val_accuracy: 0.6000\n",
      "Epoch 50/100\n",
      "35/35 [==============================] - 0s 5ms/step - loss: 0.5311 - accuracy: 0.8220 - val_loss: 0.8866 - val_accuracy: 0.6550\n",
      "Epoch 51/100\n",
      "35/35 [==============================] - 0s 5ms/step - loss: 0.5588 - accuracy: 0.8104 - val_loss: 0.8885 - val_accuracy: 0.6350\n",
      "Epoch 52/100\n",
      "35/35 [==============================] - 0s 10ms/step - loss: 0.5529 - accuracy: 0.8131 - val_loss: 0.8791 - val_accuracy: 0.6500\n",
      "Epoch 53/100\n",
      "35/35 [==============================] - 0s 7ms/step - loss: 0.5175 - accuracy: 0.8175 - val_loss: 0.8803 - val_accuracy: 0.6650\n",
      "Epoch 54/100\n",
      "35/35 [==============================] - 0s 9ms/step - loss: 0.5208 - accuracy: 0.8283 - val_loss: 0.8946 - val_accuracy: 0.6450\n",
      "Epoch 55/100\n",
      "35/35 [==============================] - 0s 5ms/step - loss: 0.5393 - accuracy: 0.8211 - val_loss: 0.9029 - val_accuracy: 0.6450\n",
      "Epoch 56/100\n",
      "35/35 [==============================] - 0s 6ms/step - loss: 0.5314 - accuracy: 0.8238 - val_loss: 0.9040 - val_accuracy: 0.6300\n",
      "Epoch 57/100\n",
      "35/35 [==============================] - 0s 6ms/step - loss: 0.5320 - accuracy: 0.8381 - val_loss: 0.8973 - val_accuracy: 0.6300\n"
     ]
    }
   ],
   "source": [
    "# Membuat model CNN\n",
    "model = Sequential([\n",
    "    Conv1D(filters=32, kernel_size=3, activation='relu', input_shape=(X_train_smote.shape[1], 1)),\n",
    "    BatchNormalization(),\n",
    "    MaxPooling1D(pool_size=2),\n",
    "    Dropout(0.3),\n",
    "    Conv1D(filters=64, kernel_size=3, activation='relu', kernel_regularizer=l2(0.01)),\n",
    "    BatchNormalization(),\n",
    "    MaxPooling1D(pool_size=2),\n",
    "    Dropout(0.3),\n",
    "    Flatten(),\n",
    "    Dense(64, activation='relu', kernel_regularizer=l2(0.01)),\n",
    "    BatchNormalization(),\n",
    "    Dropout(0.4),\n",
    "    Dense(1, activation='sigmoid')\n",
    "])\n",
    "\n",
    "# Kompilasi model dengan optimizer Nadam dan learning rate decay\n",
    "optimizer = Nadam(learning_rate=0.001, decay=1e-6)\n",
    "# Compile model\n",
    "model.compile(loss='binary_crossentropy', optimizer='adam', metrics=['accuracy'])\n",
    "\n",
    "# Early stopping dengan monitoring val_loss\n",
    "early_stopping = tf.keras.callbacks.EarlyStopping(monitor='val_loss', patience=10, restore_best_weights=True)\n",
    "\n",
    "# Latih model dengan early stopping\n",
    "history = model.fit(X_train_smote, y_train_smote, epochs=100, batch_size=32, validation_data=(X_test, y_test), callbacks=[early_stopping])"
   ]
  },
  {
   "cell_type": "code",
   "execution_count": 54,
   "metadata": {},
   "outputs": [
    {
     "name": "stdout",
     "output_type": "stream",
     "text": [
      "7/7 [==============================] - 0s 2ms/step - loss: 0.8271 - accuracy: 0.6600\n",
      "Test Loss: 0.827, Test Accuracy: 0.660\n"
     ]
    },
    {
     "data": {
      "image/png": "[encoded data removed]",
      "text/plain": [
       "<Figure size 640x480 with 1 Axes>"
      ]
     },
     "metadata": {},
     "output_type": "display_data"
    },
    {
     "name": "stdout",
     "output_type": "stream",
     "text": [
      "7/7 [==============================] - 0s 2ms/step\n",
      "              precision    recall  f1-score   support\n",
      "\n",
      "           0       0.43      0.46      0.44        59\n",
      "           1       0.77      0.74      0.76       141\n",
      "\n",
      "    accuracy                           0.66       200\n",
      "   macro avg       0.60      0.60      0.60       200\n",
      "weighted avg       0.67      0.66      0.66       200\n",
      "\n"
     ]
    }
   ],
   "source": [
    "# Evaluasi model\n",
    "loss, accuracy = model.evaluate(X_test, y_test)\n",
    "print(f\"Test Loss: {loss:.3f}, Test Accuracy: {accuracy:.3f}\")\n",
    "\n",
    "# Plot training history\n",
    "plt.plot(history.history['accuracy'], label='accuracy')\n",
    "plt.plot(history.history['val_accuracy'], label = 'val_accuracy')\n",
    "plt.xlabel('Epoch')\n",
    "plt.ylabel('Accuracy')\n",
    "plt.legend(loc='lower right')\n",
    "plt.show()\n",
    "\n",
    "# Predict probabilities on test data\n",
    "y_pred_prob = model.predict(X_test)\n",
    "\n",
    "# Convert probabilities to classes\n",
    "y_pred = (y_pred_prob > 0.5).astype(int)\n",
    "\n",
    "# Print classification report\n",
    "print(classification_report(y_test, y_pred))"
   ]
  },
  {
   "cell_type": "code",
   "execution_count": null,
   "metadata": {},
   "outputs": [],
   "source": []
  },
  {
   "cell_type": "code",
   "execution_count": null,
   "metadata": {},
   "outputs": [],
   "source": []
  }
 ],
 "metadata": {
  "kernelspec": {
   "display_name": "Python 3",
   "language": "python",
   "name": "python3"
  },
  "language_info": {
   "codemirror_mode": {
    "name": "ipython",
    "version": 3
   },
   "file_extension": ".py",
   "mimetype": "text/x-python",
   "name": "python",
   "nbconvert_exporter": "python",
   "pygments_lexer": "ipython3",
   "version": "3.9.12"
  }
 },
 "nbformat": 4,
 "nbformat_minor": 2
}
